{
  "nbformat": 4,
  "nbformat_minor": 0,
  "metadata": {
    "colab": {
      "name": "ToBeOrNotToBe.ipynb",
      "provenance": []
    },
    "kernelspec": {
      "name": "python3",
      "display_name": "Python 3"
    },
    "language_info": {
      "name": "python"
    }
  },
  "cells": [
    {
      "cell_type": "code",
      "metadata": {
        "id": "Jf6-uzrHxmRW"
      },
      "source": [
        "%matplotlib inline\n",
        "import os\n",
        "import numpy as np\n",
        "import pandas as pd\n",
        "import matplotlib.pyplot as plt"
      ],
      "execution_count": 2,
      "outputs": []
    },
    {
      "cell_type": "code",
      "metadata": {
        "colab": {
          "base_uri": "https://localhost:8080/"
        },
        "id": "u10bS9Iu17Ph",
        "outputId": "f509fb74-2421-45d3-d17e-3ea3b66ea961"
      },
      "source": [
        "from google.colab import drive\n",
        "drive.mount('/content/gdrive')"
      ],
      "execution_count": 3,
      "outputs": [
        {
          "output_type": "stream",
          "text": [
            "Mounted at /content/gdrive\n"
          ],
          "name": "stdout"
        }
      ]
    },
    {
      "cell_type": "code",
      "metadata": {
        "colab": {
          "base_uri": "https://localhost:8080/"
        },
        "id": "KdOv-4Tp2A9S",
        "outputId": "e4176ebf-efef-4229-b7d7-69d8401ee8d5"
      },
      "source": [
        "train = pd.read_csv('/content/gdrive/MyDrive/Datasets/Book1.csv', low_memory=False)\n",
        "test = pd.read_csv('/content/gdrive/MyDrive/Datasets/testdata.csv', low_memory=False)\n",
        "print('training data shape', train.shape)\n",
        "print('testing data shape', test.shape)"
      ],
      "execution_count": 26,
      "outputs": [
        {
          "output_type": "stream",
          "text": [
            "training data shape (79999, 342)\n",
            "testing data shape (20001, 341)\n"
          ],
          "name": "stdout"
        }
      ]
    },
    {
      "cell_type": "code",
      "metadata": {
        "colab": {
          "base_uri": "https://localhost:8080/",
          "height": 345
        },
        "id": "ShBgdSJf2QSI",
        "outputId": "8dda394a-de08-4ba1-a73a-bceed66fb912"
      },
      "source": [
        "train.head()"
      ],
      "execution_count": 27,
      "outputs": [
        {
          "output_type": "execute_result",
          "data": {
            "text/html": [
              "<div>\n",
              "<style scoped>\n",
              "    .dataframe tbody tr th:only-of-type {\n",
              "        vertical-align: middle;\n",
              "    }\n",
              "\n",
              "    .dataframe tbody tr th {\n",
              "        vertical-align: top;\n",
              "    }\n",
              "\n",
              "    .dataframe thead th {\n",
              "        text-align: right;\n",
              "    }\n",
              "</style>\n",
              "<table border=\"1\" class=\"dataframe\">\n",
              "  <thead>\n",
              "    <tr style=\"text-align: right;\">\n",
              "      <th></th>\n",
              "      <th>SUBJECT_ID</th>\n",
              "      <th>HADM_ID</th>\n",
              "      <th>ADMITTIME</th>\n",
              "      <th>DISCHTIME</th>\n",
              "      <th>INSURANCE</th>\n",
              "      <th>LANGUAGE</th>\n",
              "      <th>RELIGION</th>\n",
              "      <th>MARITAL_STATUS</th>\n",
              "      <th>ETHNICITY</th>\n",
              "      <th>GENDER</th>\n",
              "      <th>AGE</th>\n",
              "      <th>HR_MIN_DAY1</th>\n",
              "      <th>HR_MAX_DAY1</th>\n",
              "      <th>HR_MEAN_DAY1</th>\n",
              "      <th>SYS_BP_MIN_DAY1</th>\n",
              "      <th>SYS_BP_MAX_DAY1</th>\n",
              "      <th>SYS_BP_MEAN_DAY1</th>\n",
              "      <th>DIAS_BP_MIN_DAY1</th>\n",
              "      <th>DIAS_BP_MAX_DAY1</th>\n",
              "      <th>DIAS_BP_MEAN_DAY1</th>\n",
              "      <th>MEAN_BP_MIN_DAY1</th>\n",
              "      <th>MEAN_BP_MAX_DAY1</th>\n",
              "      <th>MEAN_BP_MEAN_DAY1</th>\n",
              "      <th>RESP_RATE_MIN_DAY1</th>\n",
              "      <th>RESP_RATE_MAX_DAY1</th>\n",
              "      <th>RESP_RATE_MEAN_DAY1</th>\n",
              "      <th>TEMP_MIN_DAY1</th>\n",
              "      <th>TEMP_MAX_DAY1</th>\n",
              "      <th>TEMP_MEAN_DAY1</th>\n",
              "      <th>SPO2_MIN_DAY1</th>\n",
              "      <th>SPO2_MAX_DAY1</th>\n",
              "      <th>SPO2_MEAN_DAY1</th>\n",
              "      <th>GLUCOSE_MIN_DAY1</th>\n",
              "      <th>GLUCOSE_MAX_DAY1</th>\n",
              "      <th>GLUCOSE_MEAN_DAY1</th>\n",
              "      <th>HR_MIN_DAY2</th>\n",
              "      <th>HR_MAX_DAY2</th>\n",
              "      <th>HR_MEAN_DAY2</th>\n",
              "      <th>SYS_BP_MIN_DAY2</th>\n",
              "      <th>SYS_BP_MAX_DAY2</th>\n",
              "      <th>...</th>\n",
              "      <th>Delirium/dementia/amnestic/othercognitiv</th>\n",
              "      <th>Developmentaldisorders</th>\n",
              "      <th>Disordersusuallydiagnosedininfancy/ch</th>\n",
              "      <th>ImpulsecontroldisordersNEC</th>\n",
              "      <th>Mooddisorders</th>\n",
              "      <th>Personalitydisorders</th>\n",
              "      <th>Schizophreniaandotherpsychoticdisorde</th>\n",
              "      <th>Alcohol-relateddisorders</th>\n",
              "      <th>Substance-relateddisorders</th>\n",
              "      <th>Suicideandintentionalself-inflictedin</th>\n",
              "      <th>Screeningandhistoryofmentalhealthan</th>\n",
              "      <th>Miscellaneousmentaldisorders</th>\n",
              "      <th>Viralinfect</th>\n",
              "      <th>Meningitis</th>\n",
              "      <th>Encephalitis</th>\n",
              "      <th>OthCNSinfx</th>\n",
              "      <th>Parkinson-s</th>\n",
              "      <th>Othinfectns</th>\n",
              "      <th>MS</th>\n",
              "      <th>OtheredCNS</th>\n",
              "      <th>Paralysis</th>\n",
              "      <th>Epilepsy/cnv</th>\n",
              "      <th>Headache/mig</th>\n",
              "      <th>Coma/brndmg</th>\n",
              "      <th>Cataract</th>\n",
              "      <th>Retinaldx</th>\n",
              "      <th>Glaucoma</th>\n",
              "      <th>Blindness</th>\n",
              "      <th>SexualInfxs</th>\n",
              "      <th>Eyeinfectn</th>\n",
              "      <th>Othereyedx</th>\n",
              "      <th>Otitismedia</th>\n",
              "      <th>Dizziness</th>\n",
              "      <th>Othereardx</th>\n",
              "      <th>Othnervdx</th>\n",
              "      <th>Hrtvalvedx</th>\n",
              "      <th>Carditis</th>\n",
              "      <th>HTN</th>\n",
              "      <th>Htncomplicn</th>\n",
              "      <th>Died</th>\n",
              "    </tr>\n",
              "  </thead>\n",
              "  <tbody>\n",
              "    <tr>\n",
              "      <th>0</th>\n",
              "      <td>45524</td>\n",
              "      <td>108398</td>\n",
              "      <td>2128-05-15_23:42:00</td>\n",
              "      <td>2132-07-23_15:00:00</td>\n",
              "      <td>Private</td>\n",
              "      <td>ENGL</td>\n",
              "      <td>CATHOLIC</td>\n",
              "      <td>DIVORCED</td>\n",
              "      <td>WHITE</td>\n",
              "      <td>F</td>\n",
              "      <td>21</td>\n",
              "      <td>57.207630</td>\n",
              "      <td>108.704030</td>\n",
              "      <td>70.841980</td>\n",
              "      <td>79.847060</td>\n",
              "      <td>119.72417</td>\n",
              "      <td>94.435090</td>\n",
              "      <td>26.880910</td>\n",
              "      <td>68.876540</td>\n",
              "      <td>48.665768</td>\n",
              "      <td>37.614445</td>\n",
              "      <td>83.690080</td>\n",
              "      <td>61.041763</td>\n",
              "      <td>9.086277</td>\n",
              "      <td>24.325495</td>\n",
              "      <td>15.317726</td>\n",
              "      <td>34.627020</td>\n",
              "      <td>37.500460</td>\n",
              "      <td>37.149044</td>\n",
              "      <td>88.517360</td>\n",
              "      <td>98.391525</td>\n",
              "      <td>99.372050</td>\n",
              "      <td>134.743700</td>\n",
              "      <td>217.31165</td>\n",
              "      <td>155.57593</td>\n",
              "      <td>68.142490</td>\n",
              "      <td>100.063774</td>\n",
              "      <td>78.120926</td>\n",
              "      <td>89.537865</td>\n",
              "      <td>117.834885</td>\n",
              "      <td>...</td>\n",
              "      <td>0</td>\n",
              "      <td>0</td>\n",
              "      <td>0</td>\n",
              "      <td>0</td>\n",
              "      <td>0</td>\n",
              "      <td>0</td>\n",
              "      <td>0</td>\n",
              "      <td>0</td>\n",
              "      <td>0</td>\n",
              "      <td>0</td>\n",
              "      <td>0</td>\n",
              "      <td>0</td>\n",
              "      <td>0</td>\n",
              "      <td>0</td>\n",
              "      <td>0</td>\n",
              "      <td>0</td>\n",
              "      <td>0</td>\n",
              "      <td>0</td>\n",
              "      <td>0</td>\n",
              "      <td>0</td>\n",
              "      <td>0</td>\n",
              "      <td>0</td>\n",
              "      <td>0</td>\n",
              "      <td>0</td>\n",
              "      <td>0</td>\n",
              "      <td>0</td>\n",
              "      <td>0</td>\n",
              "      <td>0</td>\n",
              "      <td>0</td>\n",
              "      <td>0</td>\n",
              "      <td>0</td>\n",
              "      <td>0</td>\n",
              "      <td>0</td>\n",
              "      <td>0</td>\n",
              "      <td>0</td>\n",
              "      <td>0</td>\n",
              "      <td>0</td>\n",
              "      <td>0</td>\n",
              "      <td>0.0</td>\n",
              "      <td>0</td>\n",
              "    </tr>\n",
              "    <tr>\n",
              "      <th>1</th>\n",
              "      <td>50520</td>\n",
              "      <td>186416</td>\n",
              "      <td>2134-03-17_03:59:00</td>\n",
              "      <td>2113-03-06_12:05:00</td>\n",
              "      <td>Private</td>\n",
              "      <td>ENGL</td>\n",
              "      <td>UNOBTAINABLE</td>\n",
              "      <td>SINGLE</td>\n",
              "      <td>WHITE</td>\n",
              "      <td>M</td>\n",
              "      <td>39</td>\n",
              "      <td>79.331400</td>\n",
              "      <td>121.138664</td>\n",
              "      <td>96.915726</td>\n",
              "      <td>93.994540</td>\n",
              "      <td>138.59406</td>\n",
              "      <td>113.570206</td>\n",
              "      <td>38.621536</td>\n",
              "      <td>74.270065</td>\n",
              "      <td>66.566760</td>\n",
              "      <td>62.047737</td>\n",
              "      <td>98.244140</td>\n",
              "      <td>81.589250</td>\n",
              "      <td>8.950318</td>\n",
              "      <td>20.452858</td>\n",
              "      <td>16.422120</td>\n",
              "      <td>36.979280</td>\n",
              "      <td>37.946106</td>\n",
              "      <td>37.567726</td>\n",
              "      <td>94.895510</td>\n",
              "      <td>99.241165</td>\n",
              "      <td>98.645110</td>\n",
              "      <td>117.071846</td>\n",
              "      <td>152.38774</td>\n",
              "      <td>140.82172</td>\n",
              "      <td>89.746510</td>\n",
              "      <td>106.236690</td>\n",
              "      <td>101.622210</td>\n",
              "      <td>95.438126</td>\n",
              "      <td>145.642680</td>\n",
              "      <td>...</td>\n",
              "      <td>0</td>\n",
              "      <td>0</td>\n",
              "      <td>0</td>\n",
              "      <td>0</td>\n",
              "      <td>0</td>\n",
              "      <td>0</td>\n",
              "      <td>0</td>\n",
              "      <td>0</td>\n",
              "      <td>0</td>\n",
              "      <td>0</td>\n",
              "      <td>0</td>\n",
              "      <td>0</td>\n",
              "      <td>0</td>\n",
              "      <td>0</td>\n",
              "      <td>0</td>\n",
              "      <td>0</td>\n",
              "      <td>0</td>\n",
              "      <td>0</td>\n",
              "      <td>0</td>\n",
              "      <td>0</td>\n",
              "      <td>0</td>\n",
              "      <td>0</td>\n",
              "      <td>0</td>\n",
              "      <td>0</td>\n",
              "      <td>0</td>\n",
              "      <td>0</td>\n",
              "      <td>0</td>\n",
              "      <td>0</td>\n",
              "      <td>0</td>\n",
              "      <td>0</td>\n",
              "      <td>0</td>\n",
              "      <td>0</td>\n",
              "      <td>0</td>\n",
              "      <td>0</td>\n",
              "      <td>0</td>\n",
              "      <td>0</td>\n",
              "      <td>0</td>\n",
              "      <td>0</td>\n",
              "      <td>1.0</td>\n",
              "      <td>0</td>\n",
              "    </tr>\n",
              "    <tr>\n",
              "      <th>2</th>\n",
              "      <td>17956</td>\n",
              "      <td>126413</td>\n",
              "      <td>2164-04-05_17:32:00</td>\n",
              "      <td>2180-09-20_16:30:00</td>\n",
              "      <td>Medicaid</td>\n",
              "      <td>SPAN</td>\n",
              "      <td>CATHOLIC</td>\n",
              "      <td>WIDOWED</td>\n",
              "      <td>OTHER</td>\n",
              "      <td>M</td>\n",
              "      <td>40</td>\n",
              "      <td>118.230290</td>\n",
              "      <td>175.175430</td>\n",
              "      <td>140.936700</td>\n",
              "      <td>122.862610</td>\n",
              "      <td>144.25964</td>\n",
              "      <td>134.501220</td>\n",
              "      <td>67.754650</td>\n",
              "      <td>83.301410</td>\n",
              "      <td>80.350330</td>\n",
              "      <td>76.247795</td>\n",
              "      <td>105.058030</td>\n",
              "      <td>98.625850</td>\n",
              "      <td>14.516378</td>\n",
              "      <td>39.715710</td>\n",
              "      <td>23.086393</td>\n",
              "      <td>36.951508</td>\n",
              "      <td>38.752600</td>\n",
              "      <td>38.071655</td>\n",
              "      <td>95.166626</td>\n",
              "      <td>99.261380</td>\n",
              "      <td>93.118576</td>\n",
              "      <td>108.634170</td>\n",
              "      <td>247.39170</td>\n",
              "      <td>129.60728</td>\n",
              "      <td>125.785750</td>\n",
              "      <td>174.718640</td>\n",
              "      <td>141.342070</td>\n",
              "      <td>133.556170</td>\n",
              "      <td>132.174180</td>\n",
              "      <td>...</td>\n",
              "      <td>0</td>\n",
              "      <td>0</td>\n",
              "      <td>0</td>\n",
              "      <td>0</td>\n",
              "      <td>0</td>\n",
              "      <td>0</td>\n",
              "      <td>0</td>\n",
              "      <td>0</td>\n",
              "      <td>0</td>\n",
              "      <td>0</td>\n",
              "      <td>1</td>\n",
              "      <td>0</td>\n",
              "      <td>0</td>\n",
              "      <td>0</td>\n",
              "      <td>0</td>\n",
              "      <td>0</td>\n",
              "      <td>0</td>\n",
              "      <td>0</td>\n",
              "      <td>0</td>\n",
              "      <td>0</td>\n",
              "      <td>0</td>\n",
              "      <td>0</td>\n",
              "      <td>0</td>\n",
              "      <td>0</td>\n",
              "      <td>0</td>\n",
              "      <td>0</td>\n",
              "      <td>0</td>\n",
              "      <td>0</td>\n",
              "      <td>0</td>\n",
              "      <td>0</td>\n",
              "      <td>0</td>\n",
              "      <td>0</td>\n",
              "      <td>0</td>\n",
              "      <td>0</td>\n",
              "      <td>0</td>\n",
              "      <td>0</td>\n",
              "      <td>0</td>\n",
              "      <td>0</td>\n",
              "      <td>0.0</td>\n",
              "      <td>0</td>\n",
              "    </tr>\n",
              "    <tr>\n",
              "      <th>3</th>\n",
              "      <td>90258</td>\n",
              "      <td>109355</td>\n",
              "      <td>2102-09-08_00:58:00</td>\n",
              "      <td>2166-06-26_15:30:00</td>\n",
              "      <td>Medicare</td>\n",
              "      <td>ENGL</td>\n",
              "      <td>NOT_SPECIFIED</td>\n",
              "      <td>MARRIED</td>\n",
              "      <td>WHITE</td>\n",
              "      <td>M</td>\n",
              "      <td>75</td>\n",
              "      <td>83.780380</td>\n",
              "      <td>89.188980</td>\n",
              "      <td>86.051155</td>\n",
              "      <td>111.390740</td>\n",
              "      <td>144.86057</td>\n",
              "      <td>127.681170</td>\n",
              "      <td>61.139935</td>\n",
              "      <td>75.232390</td>\n",
              "      <td>74.849920</td>\n",
              "      <td>80.639640</td>\n",
              "      <td>106.473175</td>\n",
              "      <td>93.559380</td>\n",
              "      <td>13.452833</td>\n",
              "      <td>21.236153</td>\n",
              "      <td>15.556414</td>\n",
              "      <td>36.293858</td>\n",
              "      <td>37.254100</td>\n",
              "      <td>37.034706</td>\n",
              "      <td>86.604610</td>\n",
              "      <td>96.742004</td>\n",
              "      <td>94.456890</td>\n",
              "      <td>191.599600</td>\n",
              "      <td>228.56810</td>\n",
              "      <td>228.90790</td>\n",
              "      <td>68.780624</td>\n",
              "      <td>114.619530</td>\n",
              "      <td>90.120900</td>\n",
              "      <td>92.589430</td>\n",
              "      <td>120.602905</td>\n",
              "      <td>...</td>\n",
              "      <td>0</td>\n",
              "      <td>0</td>\n",
              "      <td>0</td>\n",
              "      <td>0</td>\n",
              "      <td>0</td>\n",
              "      <td>0</td>\n",
              "      <td>0</td>\n",
              "      <td>0</td>\n",
              "      <td>0</td>\n",
              "      <td>0</td>\n",
              "      <td>0</td>\n",
              "      <td>0</td>\n",
              "      <td>0</td>\n",
              "      <td>0</td>\n",
              "      <td>0</td>\n",
              "      <td>0</td>\n",
              "      <td>0</td>\n",
              "      <td>0</td>\n",
              "      <td>0</td>\n",
              "      <td>0</td>\n",
              "      <td>0</td>\n",
              "      <td>0</td>\n",
              "      <td>0</td>\n",
              "      <td>0</td>\n",
              "      <td>0</td>\n",
              "      <td>0</td>\n",
              "      <td>0</td>\n",
              "      <td>0</td>\n",
              "      <td>0</td>\n",
              "      <td>0</td>\n",
              "      <td>0</td>\n",
              "      <td>0</td>\n",
              "      <td>0</td>\n",
              "      <td>0</td>\n",
              "      <td>0</td>\n",
              "      <td>0</td>\n",
              "      <td>0</td>\n",
              "      <td>1</td>\n",
              "      <td>0.0</td>\n",
              "      <td>0</td>\n",
              "    </tr>\n",
              "    <tr>\n",
              "      <th>4</th>\n",
              "      <td>25159</td>\n",
              "      <td>123784</td>\n",
              "      <td>2163-08-06_12:07:00</td>\n",
              "      <td>2147-01-14_18:40:00</td>\n",
              "      <td>Medicare</td>\n",
              "      <td>ENGL</td>\n",
              "      <td>UNOBTAINABLE</td>\n",
              "      <td>MARRIED</td>\n",
              "      <td>UNKNOWN/NOT_SPECIFIED</td>\n",
              "      <td>F</td>\n",
              "      <td>55</td>\n",
              "      <td>60.878613</td>\n",
              "      <td>105.637500</td>\n",
              "      <td>80.616840</td>\n",
              "      <td>87.627464</td>\n",
              "      <td>127.75874</td>\n",
              "      <td>99.098860</td>\n",
              "      <td>42.693020</td>\n",
              "      <td>64.015396</td>\n",
              "      <td>64.309480</td>\n",
              "      <td>62.921795</td>\n",
              "      <td>98.436676</td>\n",
              "      <td>76.924060</td>\n",
              "      <td>8.615975</td>\n",
              "      <td>18.557594</td>\n",
              "      <td>12.778845</td>\n",
              "      <td>35.965570</td>\n",
              "      <td>36.973774</td>\n",
              "      <td>36.258358</td>\n",
              "      <td>61.632220</td>\n",
              "      <td>98.825516</td>\n",
              "      <td>99.040010</td>\n",
              "      <td>128.833010</td>\n",
              "      <td>181.92357</td>\n",
              "      <td>142.89526</td>\n",
              "      <td>56.715332</td>\n",
              "      <td>83.016860</td>\n",
              "      <td>76.610200</td>\n",
              "      <td>91.593130</td>\n",
              "      <td>117.402180</td>\n",
              "      <td>...</td>\n",
              "      <td>0</td>\n",
              "      <td>0</td>\n",
              "      <td>0</td>\n",
              "      <td>0</td>\n",
              "      <td>0</td>\n",
              "      <td>0</td>\n",
              "      <td>0</td>\n",
              "      <td>0</td>\n",
              "      <td>0</td>\n",
              "      <td>0</td>\n",
              "      <td>0</td>\n",
              "      <td>0</td>\n",
              "      <td>0</td>\n",
              "      <td>0</td>\n",
              "      <td>0</td>\n",
              "      <td>0</td>\n",
              "      <td>0</td>\n",
              "      <td>0</td>\n",
              "      <td>0</td>\n",
              "      <td>0</td>\n",
              "      <td>0</td>\n",
              "      <td>0</td>\n",
              "      <td>0</td>\n",
              "      <td>0</td>\n",
              "      <td>0</td>\n",
              "      <td>0</td>\n",
              "      <td>0</td>\n",
              "      <td>0</td>\n",
              "      <td>0</td>\n",
              "      <td>0</td>\n",
              "      <td>0</td>\n",
              "      <td>0</td>\n",
              "      <td>0</td>\n",
              "      <td>0</td>\n",
              "      <td>0</td>\n",
              "      <td>0</td>\n",
              "      <td>0</td>\n",
              "      <td>0</td>\n",
              "      <td>0.0</td>\n",
              "      <td>0</td>\n",
              "    </tr>\n",
              "  </tbody>\n",
              "</table>\n",
              "<p>5 rows × 342 columns</p>\n",
              "</div>"
            ],
            "text/plain": [
              "   SUBJECT_ID  HADM_ID            ADMITTIME  ... HTN Htncomplicn Died\n",
              "0       45524   108398  2128-05-15_23:42:00  ...   0         0.0    0\n",
              "1       50520   186416  2134-03-17_03:59:00  ...   0         1.0    0\n",
              "2       17956   126413  2164-04-05_17:32:00  ...   0         0.0    0\n",
              "3       90258   109355  2102-09-08_00:58:00  ...   1         0.0    0\n",
              "4       25159   123784  2163-08-06_12:07:00  ...   0         0.0    0\n",
              "\n",
              "[5 rows x 342 columns]"
            ]
          },
          "metadata": {
            "tags": []
          },
          "execution_count": 27
        }
      ]
    },
    {
      "cell_type": "code",
      "metadata": {
        "colab": {
          "base_uri": "https://localhost:8080/"
        },
        "id": "SY_xwqcJ2oRN",
        "outputId": "36f60e1d-7d41-4332-99ae-47db4dadb046"
      },
      "source": [
        "train.info()"
      ],
      "execution_count": 28,
      "outputs": [
        {
          "output_type": "stream",
          "text": [
            "<class 'pandas.core.frame.DataFrame'>\n",
            "RangeIndex: 79999 entries, 0 to 79998\n",
            "Columns: 342 entries, SUBJECT_ID to Died\n",
            "dtypes: float64(49), int64(284), object(9)\n",
            "memory usage: 208.7+ MB\n"
          ],
          "name": "stdout"
        }
      ]
    },
    {
      "cell_type": "code",
      "metadata": {
        "colab": {
          "base_uri": "https://localhost:8080/"
        },
        "id": "GDXJvtM82slU",
        "outputId": "761c1a67-1d4c-4c06-d2cb-b578c41c96d2"
      },
      "source": [
        "print('mismatch in Language: ',set(test['LANGUAGE'].unique()).symmetric_difference(set(train['LANGUAGE'].unique())))\n",
        "print('mismatch in Religion: ',set(test['RELIGION'].unique()).symmetric_difference(set(train['RELIGION'].unique())))\n",
        "print('mismatch in Ethnicity: ',set(test['ETHNICITY'].unique()).symmetric_difference(set(train['ETHNICITY'].unique())))"
      ],
      "execution_count": 29,
      "outputs": [
        {
          "output_type": "stream",
          "text": [
            "mismatch in Language:  {'*PUN', '*MAN'}\n",
            "mismatch in Religion:  {'METHODIST'}\n",
            "mismatch in Ethnicity:  {'AMERICAN_INDIAN/ALASKA_NATIVE_FEDERALLY_RECOGNIZED_TRIBE', 'HISPANIC/LATINO_-_HONDURAN'}\n"
          ],
          "name": "stdout"
        }
      ]
    },
    {
      "cell_type": "code",
      "metadata": {
        "colab": {
          "base_uri": "https://localhost:8080/"
        },
        "id": "LleDaX4p6l7S",
        "outputId": "8b79ae57-b7c4-4a4e-c318-01897dd8def1"
      },
      "source": [
        "print(train.loc[train['RELIGION'] == 'METHODIST'])\n",
        "print(train.loc[train['LANGUAGE'] == '*PUN'])\n",
        "print(train.loc[train['LANGUAGE'] == '*MAN'])\n",
        "print(train.loc[train['ETHNICITY'] == 'HISPANIC/LATINO_-_HONDURAN'])\n",
        "print(train.loc[train['ETHNICITY'] == 'AMERICAN_INDIAN/ALASKA_NATIVE_FEDERALLY_RECOGNIZED_TRIBE'])\n",
        "print(train.loc[train['ICU'] == '0'])"
      ],
      "execution_count": 30,
      "outputs": [
        {
          "output_type": "stream",
          "text": [
            "       SUBJECT_ID  HADM_ID            ADMITTIME  ... HTN Htncomplicn Died\n",
            "2894        75114   159014  2154-01-06_23:18:00  ...   1         0.0    0\n",
            "6907         9043   198494  2117-12-01_17:01:00  ...   1         0.0    1\n",
            "11782       11309   169388  2200-11-19_16:21:00  ...   0         0.0    0\n",
            "28245       18066   152436  2126-03-15_21:08:00  ...   1         0.0    0\n",
            "54089        6212   116359  2153-03-07_14:39:00  ...   1         0.0    0\n",
            "66589       26310   140509  2154-03-10_16:51:00  ...   1         0.0    0\n",
            "\n",
            "[6 rows x 342 columns]\n",
            "       SUBJECT_ID  HADM_ID            ADMITTIME  ... HTN Htncomplicn Died\n",
            "5958        22987   139040  2163-12-24_18:02:00  ...   1         0.0    0\n",
            "41814       11279   130156  2187-12-13_02:35:00  ...   1         0.0    0\n",
            "51498       10117   158661  2203-10-23_06:51:00  ...   1         0.0    0\n",
            "57678       20718   180569  2191-03-09_08:00:00  ...   1         0.0    0\n",
            "68882       23345   115590  2160-05-11_23:46:00  ...   0         0.0    0\n",
            "78830        7247   139648  2160-07-28_15:32:00  ...   1         0.0    0\n",
            "\n",
            "[6 rows x 342 columns]\n",
            "       SUBJECT_ID  HADM_ID            ADMITTIME  ... HTN Htncomplicn Died\n",
            "3564        14511   157046  2140-06-08_09:15:00  ...   1         0.0    0\n",
            "6760        68368   176082  2116-06-01_23:14:00  ...   0         0.0    0\n",
            "18824       22809   133684  2156-09-04_19:32:00  ...   0         0.0    0\n",
            "20662       13041   161492  2194-05-23_14:51:00  ...   0         0.0    0\n",
            "23487       76125   194868  2139-04-18_06:49:00  ...   0         0.0    0\n",
            "23580       18377   131028  2180-12-28_14:31:00  ...   1         0.0    0\n",
            "27233       94192   186876  2108-06-26_16:57:00  ...   0         0.0    0\n",
            "33675       12064   121261  2147-06-08_22:55:00  ...   0         0.0    0\n",
            "45328       11923   160253  2178-09-09_12:01:00  ...   1         0.0    0\n",
            "47143       29145   132621  2144-02-17_07:15:00  ...   1         0.0    0\n",
            "54893       24956   127458  2135-02-09_16:20:00  ...   1         0.0    0\n",
            "55239       41000   150165  2171-10-03_08:00:00  ...   1         0.0    0\n",
            "59495       80539   159511  2119-12-08_07:15:00  ...   0         0.0    0\n",
            "65827       16637   133692  2136-10-07_04:41:00  ...   1         0.0    0\n",
            "75515       24749   190985  2149-04-22_01:53:00  ...   0         0.0    0\n",
            "\n",
            "[15 rows x 342 columns]\n",
            "       SUBJECT_ID  HADM_ID            ADMITTIME  ... HTN Htncomplicn Died\n",
            "10465       75469   101761  2189-06-30_20:53:00  ...   1         1.0    0\n",
            "12826       84731   159785  2177-09-29_11:30:00  ...   0         0.0    0\n",
            "13316        3540   185495  2131-02-25_14:07:00  ...   0         1.0    0\n",
            "21896       41448   148924  2190-11-22_14:30:00  ...   1         0.0    0\n",
            "43276        8313   185843  2176-08-29_10:30:00  ...   1         0.0    0\n",
            "59353        7529   143878  2176-05-09_07:15:00  ...   0         1.0    0\n",
            "\n",
            "[6 rows x 342 columns]\n",
            "       SUBJECT_ID  HADM_ID            ADMITTIME  ... HTN Htncomplicn Died\n",
            "67064       62143   187738  2180-04-08_18:05:00  ...   0         0.0    0\n",
            "\n",
            "[1 rows x 342 columns]\n",
            "       SUBJECT_ID  HADM_ID            ADMITTIME  ... HTN Htncomplicn Died\n",
            "23088       42694   160538  2176-01-12_16:06:00  ...   1         NaN    0\n",
            "53390       18023   106194  2152-03-21_16:07:00  ...   0         NaN    0\n",
            "\n",
            "[2 rows x 342 columns]\n"
          ],
          "name": "stdout"
        }
      ]
    },
    {
      "cell_type": "code",
      "metadata": {
        "id": "8QJIbHY_8Msj"
      },
      "source": [
        "train = train.drop(2894)\n",
        "train = train.drop(6907)\n",
        "train = train.drop(11782)\n",
        "train = train.drop(28245)\n",
        "train = train.drop(54089)\n",
        "train = train.drop(66589)\n",
        "train = train.drop(5958)\n",
        "train = train.drop(41814)\n",
        "train = train.drop(51498)\n",
        "train = train.drop(57678)\n",
        "train = train.drop(68882)\n",
        "train = train.drop(78830)\n",
        "train = train.drop(3564)\n",
        "train = train.drop(6760)\n",
        "train = train.drop(18824)\n",
        "train = train.drop(20662)\n",
        "train = train.drop(23487)\n",
        "train = train.drop(23580)\n",
        "train = train.drop(27233)\n",
        "train = train.drop(33675)\n",
        "train = train.drop(45328)\n",
        "train = train.drop(47143)\n",
        "train = train.drop(54893)\n",
        "train = train.drop(55239)\n",
        "train = train.drop(59495)\n",
        "train = train.drop(65827)\n",
        "train = train.drop(75515)\n",
        "train = train.drop(10465)\n",
        "train = train.drop(12826)\n",
        "train = train.drop(13316)\n",
        "train = train.drop(21896)\n",
        "train = train.drop(43276)\n",
        "train = train.drop(59353)\n",
        "train = train.drop(67064)\n",
        "train = train.drop(23088)\n",
        "train = train.drop(53390)"
      ],
      "execution_count": 31,
      "outputs": []
    },
    {
      "cell_type": "code",
      "metadata": {
        "colab": {
          "base_uri": "https://localhost:8080/"
        },
        "id": "gA17We9W_6N4",
        "outputId": "a3e0146c-24aa-45d6-9d80-1251ffddd8bd"
      },
      "source": [
        "print(train[pd.to_numeric(train.GLUCOSE_MEAN_DAY2, errors='coerce').isnull()])"
      ],
      "execution_count": 32,
      "outputs": [
        {
          "output_type": "stream",
          "text": [
            "Empty DataFrame\n",
            "Columns: [SUBJECT_ID, HADM_ID, ADMITTIME, DISCHTIME, INSURANCE, LANGUAGE, RELIGION, MARITAL_STATUS, ETHNICITY, GENDER, AGE, HR_MIN_DAY1, HR_MAX_DAY1, HR_MEAN_DAY1, SYS_BP_MIN_DAY1, SYS_BP_MAX_DAY1, SYS_BP_MEAN_DAY1, DIAS_BP_MIN_DAY1, DIAS_BP_MAX_DAY1, DIAS_BP_MEAN_DAY1, MEAN_BP_MIN_DAY1, MEAN_BP_MAX_DAY1, MEAN_BP_MEAN_DAY1, RESP_RATE_MIN_DAY1, RESP_RATE_MAX_DAY1, RESP_RATE_MEAN_DAY1, TEMP_MIN_DAY1, TEMP_MAX_DAY1, TEMP_MEAN_DAY1, SPO2_MIN_DAY1, SPO2_MAX_DAY1, SPO2_MEAN_DAY1, GLUCOSE_MIN_DAY1, GLUCOSE_MAX_DAY1, GLUCOSE_MEAN_DAY1, HR_MIN_DAY2, HR_MAX_DAY2, HR_MEAN_DAY2, SYS_BP_MIN_DAY2, SYS_BP_MAX_DAY2, SYS_BP_MEAN_DAY2, DIAS_BP_MIN_DAY2, DIAS_BP_MAX_DAY2, DIAS_BP_MEAN_DAY2, MEAN_BP_MIN_DAY2, MEAN_BP_MAX_DAY2, MEAN_BP_MEAN_DAY2, RESP_RATE_MIN_DAY2, RESP_RATE_MAX_DAY2, RESP_RATE_MEAN_DAY2, TEMP_MIN_DAY2, TEMP_MAX_DAY2, TEMP_MEAN_DAY2, SPO2_MIN_DAY2, SPO2_MAX_DAY2, SPO2_MEAN_DAY2, GLUCOSE_MIN_DAY2, GLUCOSE_MAX_DAY2, GLUCOSE_MEAN_DAY2, ICU, Tuberculosis, Immuniz/scrn, AcuteMI, Coronathero, Chestpain, Pulmhartdx, Othheartdx, Conduction, Dysrhythmia, Cardiaarrst, chf, AcuteCVD, Hd/nckcancr, Precereoccl, OtherCVD, TIA, LateeffCVD, Peripathero, Aneurysm, Artembolism, Otcirculdx, Phlebitis, Varicosevn, Esophcancer, Hemmorhoids, Othveindx, Pneumonia, Influenza, Tonsillitis, Bronchitis, Otuprspin, COPD, Asthma, Asppneumon, Stomchcancr, Pleurisy, Adltrespfl, Lungexternl, Othlowresp, Otupprresp, ...]\n",
            "Index: []\n",
            "\n",
            "[0 rows x 342 columns]\n"
          ],
          "name": "stdout"
        }
      ]
    },
    {
      "cell_type": "code",
      "metadata": {
        "id": "fZkyCea-ADkl"
      },
      "source": [
        "train['GLUCOSE_MEAN_DAY2'] = pd.to_numeric(train['GLUCOSE_MEAN_DAY2'])"
      ],
      "execution_count": 34,
      "outputs": []
    },
    {
      "cell_type": "code",
      "metadata": {
        "colab": {
          "base_uri": "https://localhost:8080/",
          "height": 295
        },
        "id": "0D1s9nEXAWZW",
        "outputId": "6e488153-1b24-471c-c23e-59837eb1317e"
      },
      "source": [
        "train.Died.value_counts().plot.bar(title = 'People Died')"
      ],
      "execution_count": 36,
      "outputs": [
        {
          "output_type": "execute_result",
          "data": {
            "text/plain": [
              "<matplotlib.axes._subplots.AxesSubplot at 0x7fdc11afc210>"
            ]
          },
          "metadata": {
            "tags": []
          },
          "execution_count": 36
        },
        {
          "output_type": "display_data",
          "data": {
            "image/png": "[encoded data removed]",
            "text/plain": [
              "<Figure size 432x288 with 1 Axes>"
            ]
          },
          "metadata": {
            "tags": [],
            "needs_background": "light"
          }
        }
      ]
    },
    {
      "cell_type": "code",
      "metadata": {
        "colab": {
          "base_uri": "https://localhost:8080/"
        },
        "id": "81MQu5tuAewz",
        "outputId": "9af03a66-64c2-44c4-c26f-b6273b917752"
      },
      "source": [
        "train.isnull().sum()"
      ],
      "execution_count": 37,
      "outputs": [
        {
          "output_type": "execute_result",
          "data": {
            "text/plain": [
              "SUBJECT_ID     0\n",
              "HADM_ID        0\n",
              "ADMITTIME      0\n",
              "DISCHTIME      0\n",
              "INSURANCE      0\n",
              "              ..\n",
              "Hrtvalvedx     0\n",
              "Carditis       0\n",
              "HTN            0\n",
              "Htncomplicn    9\n",
              "Died           0\n",
              "Length: 342, dtype: int64"
            ]
          },
          "metadata": {
            "tags": []
          },
          "execution_count": 37
        }
      ]
    },
    {
      "cell_type": "code",
      "metadata": {
        "id": "alkW2bqvAknH"
      },
      "source": [
        "train = train.dropna()"
      ],
      "execution_count": 38,
      "outputs": []
    },
    {
      "cell_type": "code",
      "metadata": {
        "colab": {
          "base_uri": "https://localhost:8080/"
        },
        "id": "OqhjkyZDBLet",
        "outputId": "427b733c-bd53-44de-d565-c27adca5c91d"
      },
      "source": [
        "test.isnull().sum()"
      ],
      "execution_count": 41,
      "outputs": [
        {
          "output_type": "execute_result",
          "data": {
            "text/plain": [
              "SUBJECT_ID     0\n",
              "HADM_ID        0\n",
              "ADMITTIME      0\n",
              "DISCHTIME      0\n",
              "INSURANCE      0\n",
              "              ..\n",
              "Othnervdx      0\n",
              "Hrtvalvedx     0\n",
              "Carditis       0\n",
              "HTN            0\n",
              "Htncomplicn    3\n",
              "Length: 341, dtype: int64"
            ]
          },
          "metadata": {
            "tags": []
          },
          "execution_count": 41
        }
      ]
    },
    {
      "cell_type": "code",
      "metadata": {
        "id": "ZCTPvRoZBWSu"
      },
      "source": [
        "test = test.fillna(test['Htncomplicn'].value_counts().index[0])"
      ],
      "execution_count": 43,
      "outputs": []
    },
    {
      "cell_type": "code",
      "metadata": {
        "colab": {
          "base_uri": "https://localhost:8080/"
        },
        "id": "zCqyXjayArPQ",
        "outputId": "1c83ba85-50af-4330-d088-21c5e81a998c"
      },
      "source": [
        "from collections import Counter\n",
        "print(Counter(train['Died']))"
      ],
      "execution_count": 39,
      "outputs": [
        {
          "output_type": "stream",
          "text": [
            "Counter({0: 77158, 1: 2796})\n"
          ],
          "name": "stdout"
        }
      ]
    },
    {
      "cell_type": "code",
      "metadata": {
        "id": "MKzagcS9A2DO"
      },
      "source": [
        "test['GLUCOSE_MEAN_DAY2'] = pd.to_numeric(test['GLUCOSE_MEAN_DAY2'])"
      ],
      "execution_count": 44,
      "outputs": []
    },
    {
      "cell_type": "code",
      "metadata": {
        "colab": {
          "base_uri": "https://localhost:8080/"
        },
        "id": "2fWugyk_Bt7s",
        "outputId": "b0969297-9a8b-498f-e9d8-b2ae183b00be"
      },
      "source": [
        "print(test.shape)\n",
        "print(train.shape)"
      ],
      "execution_count": 47,
      "outputs": [
        {
          "output_type": "stream",
          "text": [
            "(20001, 341)\n",
            "(79954, 342)\n"
          ],
          "name": "stdout"
        }
      ]
    },
    {
      "cell_type": "code",
      "metadata": {
        "id": "vtXxjoHMBxMr"
      },
      "source": [
        "train = train.drop(['SUBJECT_ID', 'HADM_ID', 'ADMITTIME', 'DISCHTIME'], axis = 1)\n",
        "test = test.drop(['SUBJECT_ID', 'HADM_ID', 'ADMITTIME', 'DISCHTIME'], axis = 1)"
      ],
      "execution_count": 48,
      "outputs": []
    },
    {
      "cell_type": "code",
      "metadata": {
        "id": "jFIhEDnLCPu2"
      },
      "source": [
        "# one hot encoding categorical features\n",
        "categorical_cols = ['INSURANCE', 'LANGUAGE', 'RELIGION', 'MARITAL_STATUS', 'ETHNICITY', 'GENDER', 'ICU'] \n",
        "\n",
        "train = pd.get_dummies(train, columns = categorical_cols)\n",
        "test = pd.get_dummies(test, columns = categorical_cols)"
      ],
      "execution_count": 49,
      "outputs": []
    },
    {
      "cell_type": "code",
      "metadata": {
        "id": "brdqRlkwCovL"
      },
      "source": [
        "X = train.copy()\n",
        "del X['Died']"
      ],
      "execution_count": 52,
      "outputs": []
    },
    {
      "cell_type": "code",
      "metadata": {
        "id": "VlbX9LGYDhzN"
      },
      "source": [
        "X1 = train.copy()\n",
        "del X1['Died']"
      ],
      "execution_count": 55,
      "outputs": []
    },
    {
      "cell_type": "code",
      "metadata": {
        "id": "yMhCnNmiC6Pv"
      },
      "source": [
        "Y = train['Died']"
      ],
      "execution_count": 53,
      "outputs": []
    },
    {
      "cell_type": "code",
      "metadata": {
        "id": "5a29iF2TDKv_"
      },
      "source": [
        "from sklearn import preprocessing\n",
        "scaler = preprocessing.StandardScaler()\n",
        "X = scaler.fit_transform(X)\n",
        "X = pd.DataFrame(X, columns = X1.columns)"
      ],
      "execution_count": 56,
      "outputs": []
    },
    {
      "cell_type": "code",
      "metadata": {
        "id": "QWP8RvJ8DPEV"
      },
      "source": [
        "test = scaler.fit_transform(test)\n",
        "test = pd.DataFrame(test, columns = X1.columns)"
      ],
      "execution_count": 57,
      "outputs": []
    },
    {
      "cell_type": "code",
      "metadata": {
        "id": "AyxlCtPeECgk"
      },
      "source": [
        "from sklearn.model_selection import train_test_split\n",
        "\n",
        "x, x_test, y, y_test = train_test_split(X,Y,test_size=0.2,random_state=7, shuffle=True, stratify = Y)"
      ],
      "execution_count": 58,
      "outputs": []
    },
    {
      "cell_type": "code",
      "metadata": {
        "colab": {
          "base_uri": "https://localhost:8080/"
        },
        "id": "mdLlyhaUEOqw",
        "outputId": "16201f18-259a-41a2-e3c5-fc79789788ef"
      },
      "source": [
        "!pip install CatBoost"
      ],
      "execution_count": 59,
      "outputs": [
        {
          "output_type": "stream",
          "text": [
            "Collecting CatBoost\n",
            "\u001b[?25l  Downloading https://files.pythonhosted.org/packages/47/80/8e9c57ec32dfed6ba2922bc5c96462cbf8596ce1a6f5de532ad1e43e53fe/catboost-0.25.1-cp37-none-manylinux1_x86_64.whl (67.3MB)\n",
            "\u001b[K     |████████████████████████████████| 67.3MB 53kB/s \n",
            "\u001b[?25hRequirement already satisfied: graphviz in /usr/local/lib/python3.7/dist-packages (from CatBoost) (0.10.1)\n",
            "Requirement already satisfied: numpy>=1.16.0 in /usr/local/lib/python3.7/dist-packages (from CatBoost) (1.19.5)\n",
            "Requirement already satisfied: matplotlib in /usr/local/lib/python3.7/dist-packages (from CatBoost) (3.2.2)\n",
            "Requirement already satisfied: six in /usr/local/lib/python3.7/dist-packages (from CatBoost) (1.15.0)\n",
            "Requirement already satisfied: scipy in /usr/local/lib/python3.7/dist-packages (from CatBoost) (1.4.1)\n",
            "Requirement already satisfied: pandas>=0.24.0 in /usr/local/lib/python3.7/dist-packages (from CatBoost) (1.1.5)\n",
            "Requirement already satisfied: plotly in /usr/local/lib/python3.7/dist-packages (from CatBoost) (4.4.1)\n",
            "Requirement already satisfied: kiwisolver>=1.0.1 in /usr/local/lib/python3.7/dist-packages (from matplotlib->CatBoost) (1.3.1)\n",
            "Requirement already satisfied: pyparsing!=2.0.4,!=2.1.2,!=2.1.6,>=2.0.1 in /usr/local/lib/python3.7/dist-packages (from matplotlib->CatBoost) (2.4.7)\n",
            "Requirement already satisfied: cycler>=0.10 in /usr/local/lib/python3.7/dist-packages (from matplotlib->CatBoost) (0.10.0)\n",
            "Requirement already satisfied: python-dateutil>=2.1 in /usr/local/lib/python3.7/dist-packages (from matplotlib->CatBoost) (2.8.1)\n",
            "Requirement already satisfied: pytz>=2017.2 in /usr/local/lib/python3.7/dist-packages (from pandas>=0.24.0->CatBoost) (2018.9)\n",
            "Requirement already satisfied: retrying>=1.3.3 in /usr/local/lib/python3.7/dist-packages (from plotly->CatBoost) (1.3.3)\n",
            "Installing collected packages: CatBoost\n",
            "Successfully installed CatBoost-0.25.1\n"
          ],
          "name": "stdout"
        }
      ]
    },
    {
      "cell_type": "code",
      "metadata": {
        "colab": {
          "base_uri": "https://localhost:8080/"
        },
        "id": "wnZVuUrCEH9C",
        "outputId": "c6432d5c-9362-4e73-cea4-a877a30322de"
      },
      "source": [
        "import random\n",
        "from catboost import CatBoostClassifier\n",
        "import pandas as pd\n",
        "import numpy as np\n",
        "from numpy import arange\n",
        "from tqdm import tqdm_notebook as tqdm\n",
        "import matplotlib.pyplot as plt\n",
        "plt.style.use('ggplot')\n",
        "import seaborn as sns\n",
        "from sklearn.model_selection import train_test_split\n",
        "from sklearn import metrics, preprocessing\n",
        "\n",
        "from sklearn.model_selection import StratifiedKFold\n",
        "n_fold = 4\n",
        "folds = StratifiedKFold(n_splits=n_fold, shuffle=True)\n",
        "\n",
        "params = {'bagging_temperature': 0.5,\n",
        "            'depth': 7,\n",
        "            'iterations': 500,\n",
        "            'l2_leaf_reg': 25,\n",
        "            'learning_rate': 0.04,\n",
        "            'sampling_frequency': 'PerTreeLevel',\n",
        "            'leaf_estimation_method': 'Gradient',\n",
        "            'random_strength': 0.8,\n",
        "            'boosting_type': 'Ordered',\n",
        "            'feature_border_type': 'MaxLogSum',\n",
        "            'l2_leaf_reg': 50,\n",
        "            'max_ctr_complexity': 2,\n",
        "            'fold_len_multiplier': 2}\n",
        "model_n = CatBoostClassifier(**params,\n",
        "                               loss_function='Logloss',\n",
        "                               eval_metric='AUC',\n",
        "                               nan_mode='Min',\n",
        "                               thread_count=8,\n",
        "                               task_type='CPU',\n",
        "                               scale_pos_weight = 27,\n",
        "                               verbose=True\n",
        "    #iterations=200, \n",
        "    #learning_rate=0.1, \n",
        "    #loss_function='CrossEntropy'\n",
        ")\n",
        "#train model\n",
        "model_n.fit(x, y, eval_set=(x_test, y_test),\n",
        "                            \n",
        "                              verbose_eval=300,\n",
        "                              early_stopping_rounds=500,\n",
        "                              use_best_model=True,\n",
        "                              plot=False)"
      ],
      "execution_count": 60,
      "outputs": [
        {
          "output_type": "stream",
          "text": [
            "0:\ttest: 0.6783413\tbest: 0.6783413 (0)\ttotal: 897ms\tremaining: 7m 27s\n",
            "300:\ttest: 0.8047442\tbest: 0.8047442 (300)\ttotal: 3m 58s\tremaining: 2m 37s\n",
            "499:\ttest: 0.8014938\tbest: 0.8048746 (320)\ttotal: 6m 34s\tremaining: 0us\n",
            "\n",
            "bestTest = 0.8048745909\n",
            "bestIteration = 320\n",
            "\n",
            "Shrink model to first 321 iterations.\n"
          ],
          "name": "stdout"
        },
        {
          "output_type": "execute_result",
          "data": {
            "text/plain": [
              "<catboost.core.CatBoostClassifier at 0x7fdbfbbbdb50>"
            ]
          },
          "metadata": {
            "tags": []
          },
          "execution_count": 60
        }
      ]
    },
    {
      "cell_type": "code",
      "metadata": {
        "colab": {
          "base_uri": "https://localhost:8080/"
        },
        "id": "bHFmZ1PmEU19",
        "outputId": "587de485-4020-43a8-8732-c440c600d24d"
      },
      "source": [
        "from sklearn.metrics import balanced_accuracy_score\n",
        "y_cb = model_n.predict(x_test)\n",
        "balanced_accuracy_score(y_test, y_cb)"
      ],
      "execution_count": 61,
      "outputs": [
        {
          "output_type": "execute_result",
          "data": {
            "text/plain": [
              "0.7254716519631164"
            ]
          },
          "metadata": {
            "tags": []
          },
          "execution_count": 61
        }
      ]
    },
    {
      "cell_type": "code",
      "metadata": {
        "id": "FCP14nsTG9i0"
      },
      "source": [
        "A_pred = model_n.predict(test)"
      ],
      "execution_count": 62,
      "outputs": []
    },
    {
      "cell_type": "code",
      "metadata": {
        "id": "1LAF1YqiIHL4"
      },
      "source": [
        "from pandas import DataFrame\n",
        "df_new = DataFrame (A_pred,columns=['Died'])"
      ],
      "execution_count": 63,
      "outputs": []
    }
  ]
}